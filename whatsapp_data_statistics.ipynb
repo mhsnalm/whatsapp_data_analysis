{
 "cells": [
  {
   "cell_type": "markdown",
   "metadata": {
    "collapsed": true,
    "raw_mimetype": "text/x-python"
   },
   "source": [
    "# WhatsApp Group Chat Trends and Patterns \n",
    "### by Mohsin Alam"
   ]
  },
  {
   "cell_type": "markdown",
   "metadata": {},
   "source": [
    "Required library imports in python"
   ]
  },
  {
   "cell_type": "code",
   "execution_count": 20,
   "metadata": {},
   "outputs": [],
   "source": [
    "import re\n",
    "import sys\n",
    "import math\n",
    "import numpy as np\n",
    "from numpy import NaN, Inf, arange, isscalar, asarray, array, std\n",
    "from matplotlib import pyplot as plt\n",
    "from matplotlib import colors as cl\n",
    "import operator\n",
    "%matplotlib inline"
   ]
  },
  {
   "cell_type": "markdown",
   "metadata": {},
   "source": [
    "In order to get messages from a WhatsApp conversation we must email the conversation. Emailing a conversation is part of WhatsApp. Then need to place it in the same directory as this code. Below code asks for the filename."
   ]
  },
  {
   "cell_type": "code",
   "execution_count": 2,
   "metadata": {},
   "outputs": [
    {
     "name": "stdout",
     "output_type": "stream",
     "text": [
      "Enter filename with extension: Presales.txt\n"
     ]
    }
   ],
   "source": [
    "filename = input(\"Enter filename with extension: \")"
   ]
  },
  {
   "cell_type": "markdown",
   "metadata": {},
   "source": [
    "Import stopwords. Stopwords taken from Google stopwords dataset.\n",
    "\n",
    "Purpose is to eliminate meaningless words such as 'the', 'a' etc. which might spoil our analysis results."
   ]
  },
  {
   "cell_type": "code",
   "execution_count": 3,
   "metadata": {},
   "outputs": [],
   "source": [
    "stopwords = []\n",
    "for l in open('stop-words.txt'):\n",
    "    stopwords.append(l.strip())"
   ]
  },
  {
   "cell_type": "markdown",
   "metadata": {},
   "source": [
    "#### Tokenize\n",
    "\n",
    "An implementation of input string tokenization that excludes stopwords \n",
    "    Args:\n",
    "        string (str): input string  \n",
    "    Returns:\n",
    "        list: a list of tokens without stopwords\n"
   ]
  },
  {
   "cell_type": "code",
   "execution_count": 4,
   "metadata": {},
   "outputs": [],
   "source": [
    "def tokenize(text):\n",
    "\n",
    "    return list(filter(lambda s: s if s not in stopwords else '', re.split('\\W+', text)))"
   ]
  },
  {
   "cell_type": "markdown",
   "metadata": {},
   "source": [
    "#### Removing punctuation"
   ]
  },
  {
   "cell_type": "code",
   "execution_count": 5,
   "metadata": {},
   "outputs": [],
   "source": [
    "def removePunctuation(text):\n",
    "    \"\"\"Removes punctuation, changes to lower case, and strips leading and trailing spaces.\n",
    "\n",
    "    Note:\n",
    "        Only spaces, letters, and numbers should be retained.  Other characters should should be\n",
    "        eliminated (e.g. it's becomes its).  Leading and trailing spaces should be removed after\n",
    "        punctuation is removed.\n",
    "\n",
    "    Args:\n",
    "        text (str): A string.\n",
    "\n",
    "    Returns:\n",
    "        str: The cleaned up string.\n",
    "    \"\"\"\n",
    "    string = re.sub('[^a-zA-Z\\d\\s]+', '', text)\n",
    "    return string.lower().strip(' ')"
   ]
  },
  {
   "cell_type": "markdown",
   "metadata": {},
   "source": [
    "#### Splitting data up"
   ]
  },
  {
   "cell_type": "code",
   "execution_count": 6,
   "metadata": {},
   "outputs": [],
   "source": [
    "def splitData(line):\n",
    "    \"\"\"Parses the line to return the individual components of it.\n",
    "    TODO: Make it compatible with USA, China etc. date formats.\n",
    "    \n",
    "    Args:\n",
    "        line (str): Line of the form eg. '17/07/2015, 10:25 AM - (some string)'\n",
    "        Note that (some string) need not be of the form 'Name: Message'. Could be something like 'You were added'.\n",
    "        \n",
    "    Returns:\n",
    "        date: Date of message.\n",
    "        hour: Hour of message.\n",
    "        minute: Minute of message.\n",
    "        name: Name of texter.\n",
    "        text: Text of message.\n",
    "    \"\"\"\n",
    "    try:\n",
    "        timestamp, string = line.split('-', 1)\n",
    "    except ValueError:\n",
    "        print (line)\n",
    "    date, time = map(lambda x: x.strip(), timestamp.split(','))\n",
    "    \n",
    "    # In many convos, the time is already in 24 Hr format. This is handled here.\n",
    "    if 'AM' in time or 'PM' in time:\n",
    "        hour, minmeridiem = time.split(':')\n",
    "        minute, meridiem = minmeridiem.split()\n",
    "        # Converting hours to 24 Hr format.\n",
    "        if meridiem == 'AM' and int(hour) == 12:\n",
    "            hour = int(hour) - 12\n",
    "        elif meridiem == 'PM' and int(hour) != 12:\n",
    "            hour = int(hour) + 12\n",
    "        else:\n",
    "            hour = int(hour)\n",
    "    else:\n",
    "        hour, minute = map(lambda l: int(l), time.split(':'))\n",
    "        \n",
    "    # Handling strings of the form:\n",
    "    # 17/07/2015, 10:25 AM - You were added\n",
    "    # or\n",
    "    # 17/07/2015, 10:25 AM - Name created group “Group 1”\n",
    "    try:\n",
    "        name, text = map(lambda x: x.strip(), string.split(':', 1))\n",
    "        # Handling unsaved numbers.\n",
    "        if '\\xe2\\x80\\xaa' in name:\n",
    "            name=re.findall('\\+[0-9 ]+', name)[0]\n",
    "    except ValueError as e:\n",
    "        name = ''\n",
    "        text = string.strip()\n",
    "    # for media files\n",
    "    if '<Media omitted>' in text:\n",
    "        text='<Media omitted>'\n",
    "    else:\n",
    "        text = removePunctuation(text) # Problem might arise during sentiment analysis. Emoticons might be needed.\n",
    "    return (date, hour, minute, name, text)"
   ]
  },
  {
   "cell_type": "markdown",
   "metadata": {},
   "source": [
    "#### Let's start"
   ]
  },
  {
   "cell_type": "code",
   "execution_count": 7,
   "metadata": {},
   "outputs": [
    {
     "name": "stdout",
     "output_type": "stream",
     "text": [
      "No of messages we're analysing: 3440 \n",
      "No of multimedia messages: 226\n"
     ]
    }
   ],
   "source": [
    "# Reqd dictionaries to maintain track of each message.\n",
    "date = {}\n",
    "hour = {}\n",
    "minute = {}\n",
    "name = {}\n",
    "text = {}\n",
    "# and a list\n",
    "words = []\n",
    "multimedia = 0 # count of mulimedia messages.\n",
    "i=0 # Essentially a message id. Primary key to address all attributes\n",
    "for l in open(filename, encoding=\"utf8\"):\n",
    "    if re.search('\\d+/\\d+/\\d+, \\d+:\\d+',l) is not None:\n",
    "        splitData(l)\n",
    "        try:\n",
    "            date[i], hour[i], minute[i], name[i], text[i] = splitData(l)\n",
    "            if text[i] == '<Media omitted>':\n",
    "                multimedia += 1\n",
    "                text[i] = '123456789media_omitted123456789' # my little media message identification.\n",
    "        except ValueError:\n",
    "            print (l)\n",
    "        i += 1\n",
    "    else:\n",
    "        # Missing timestamp. Is a multiline message. Append to last texter's text. Will have to keep same timestamp\n",
    "        string = removePunctuation(l)\n",
    "        try:\n",
    "            text[i-1]+=' '+string\n",
    "        except KeyError as e:\n",
    "            print(e)\n",
    "        words.extend(tokenize(string))\n",
    "\n",
    "assert len(date) == len(name), 'Some problem in parsing'\n",
    "\n",
    "print (\"No of messages we're analysing: %d \\nNo of multimedia messages: %d\" %(len(date),multimedia))\n",
    "# Tokenize rest of the text.\n",
    "for k in text.keys():\n",
    "    words.extend(tokenize(text[k]))"
   ]
  },
  {
   "cell_type": "markdown",
   "metadata": {},
   "source": [
    "#### Some stuff with words"
   ]
  },
  {
   "cell_type": "code",
   "execution_count": 8,
   "metadata": {},
   "outputs": [],
   "source": [
    "words_dict = {}\n",
    "for w in words:\n",
    "    if w in words_dict:\n",
    "        words_dict[w]+=1\n",
    "    else:\n",
    "        words_dict[w]=1\n",
    "del words_dict['123456789media_omitted123456789']"
   ]
  },
  {
   "cell_type": "markdown",
   "metadata": {},
   "source": [
    "#### It. Is. Plotting time."
   ]
  },
  {
   "cell_type": "code",
   "execution_count": 9,
   "metadata": {},
   "outputs": [
    {
     "data": {
      "image/png": "[encoded data removed]",
      "text/plain": [
       "<matplotlib.figure.Figure at 0x9c263b0>"
      ]
     },
     "metadata": {},
     "output_type": "display_data"
    }
   ],
   "source": [
    "plt.plot(words_dict.values(),color='blue')\n",
    "plt.xlabel('Words')\n",
    "plt.ylabel('Frequency')\n",
    "_ = plt.xticks([])"
   ]
  },
  {
   "cell_type": "code",
   "execution_count": 10,
   "metadata": {},
   "outputs": [
    {
     "name": "stdout",
     "output_type": "stream",
     "text": [
      "Top 20 most used words:\n",
      "build : 166\n",
      "pls : 161\n",
      "office : 140\n",
      "issue : 118\n",
      "today : 115\n",
      "guys : 114\n",
      "mohsin : 112\n",
      "plz : 91\n",
      "kamran : 84\n",
      "imran : 84\n",
      "db : 80\n",
      "well : 71\n",
      "time : 63\n",
      "work : 60\n",
      "team : 58\n",
      "call : 56\n",
      "working : 55\n",
      "contract : 52\n",
      "sayyaz : 52\n",
      "code : 51\n"
     ]
    }
   ],
   "source": [
    "sorted_words_list = sorted(words_dict.items(), key=operator.itemgetter(1), reverse=True)\n",
    "print ('Top 20 most used words:')\n",
    "for i in range(20):\n",
    "    print ('{0} : {1}' .format(sorted_words_list[i][0], sorted_words_list[i][1]))"
   ]
  },
  {
   "cell_type": "markdown",
   "metadata": {},
   "source": [
    "#### Peak detection using sliding window"
   ]
  },
  {
   "cell_type": "code",
   "execution_count": 11,
   "metadata": {},
   "outputs": [],
   "source": [
    "# source: https://gist.github.com/endolith/250860\n",
    "def peakdet(v, delta, x = None):\n",
    "    \"\"\"Implementation of peak detection using sliding window. \n",
    "    \n",
    "    Args: \n",
    "        v: 1-D data.\n",
    "        delta: Difference we want between peaks.\n",
    "          \n",
    "    Returns:\n",
    "        maxtab: np.array of peaks.\n",
    "        mintab: np.array of minimas. (Won't have any in our case.)\n",
    "    \"\"\"\n",
    "    maxtab = []\n",
    "    mintab = []\n",
    "       \n",
    "    if x is None:\n",
    "        x = arange(len(v))\n",
    "    \n",
    "    v = asarray(v)\n",
    "    \n",
    "    if len(v) != len(x):\n",
    "        sys.exit('Input vectors v and x must have same length')\n",
    "    \n",
    "    if not isscalar(delta):\n",
    "        sys.exit('Input argument delta must be a scalar')\n",
    "    \n",
    "    if delta <= 0:\n",
    "        sys.exit('Input argument delta must be positive')\n",
    "    \n",
    "    mn, mx = Inf, -Inf\n",
    "    mnpos, mxpos = NaN, NaN\n",
    "    \n",
    "    lookformax = True\n",
    "    \n",
    "    for i in arange(len(v)):\n",
    "        this = v[i]\n",
    "        if this > mx:\n",
    "            mx = this\n",
    "            mxpos = x[i]\n",
    "        if this < mn:\n",
    "            mn = this\n",
    "            mnpos = x[i]\n",
    "        \n",
    "        if lookformax:\n",
    "            if this < mx-delta:\n",
    "                maxtab.append((mxpos, mx))\n",
    "                mn = this\n",
    "                mnpos = x[i]\n",
    "                lookformax = False\n",
    "        else:\n",
    "            if this > mn+delta:\n",
    "                mintab.append((mnpos, mn))\n",
    "                mx = this\n",
    "                mxpos = x[i]\n",
    "                lookformax = True\n",
    "\n",
    "    return array(maxtab), array(mintab)"
   ]
  },
  {
   "cell_type": "markdown",
   "metadata": {},
   "source": [
    "#### Let's use it now"
   ]
  },
  {
   "cell_type": "code",
   "execution_count": 12,
   "metadata": {},
   "outputs": [
    {
     "name": "stdout",
     "output_type": "stream",
     "text": [
      "These are the peaks:\n",
      "office : 140\n",
      "build : 166\n",
      "issue : 118\n",
      "mohsin : 112\n",
      "guys : 114\n",
      "pls : 161\n"
     ]
    },
    {
     "data": {
      "image/png": "[encoded data removed]",
      "text/plain": [
       "<matplotlib.figure.Figure at 0xada8830>"
      ]
     },
     "metadata": {},
     "output_type": "display_data"
    }
   ],
   "source": [
    "\"\"\"You might experience a problem here.\n",
    "   The window size is adjusted manually and depends on how the text is distributed.\n",
    "   This distribution varies among different conversations. \n",
    "   Tried np.std() but didn't work.\n",
    "\"\"\"\n",
    "maxtab, mintab = peakdet(list(words_dict.values()),100) #Adjust for delta manually to see peaks.\n",
    "plt.plot(words_dict.values(),color='blue')\n",
    "plt.xlabel('Words')\n",
    "plt.ylabel('Frequency')\n",
    "plt.xticks([])\n",
    "plt.scatter(maxtab[:,0],maxtab[:,1],color='r')\n",
    "print ('These are the peaks:')\n",
    "for i in maxtab[:,0]:\n",
    "    print ('{0} : {1}'.format(list(words_dict.keys())[i], list(words_dict.values())[i]))\n",
    "    plt.annotate(s=list(words_dict.keys())[i], xy=(i,list(words_dict.values())[i]), xytext=(10,10), \n",
    "                 textcoords='offset points', arrowprops=dict(arrowstyle=\"->\"))"
   ]
  },
  {
   "cell_type": "markdown",
   "metadata": {},
   "source": [
    "#### Talkers"
   ]
  },
  {
   "cell_type": "code",
   "execution_count": 13,
   "metadata": {},
   "outputs": [
    {
     "name": "stdout",
     "output_type": "stream",
     "text": [
      "Saadia Pervaiz NTPK : 1054 \t30.85% messages\n",
      "Mohsin Alam : 706 \t20.67% messages\n",
      "Kamran Khalid NTPK THAI : 451 \t13.20% messages\n",
      "Kamran Khalid PK : 333 \t9.75% messages\n",
      "Imran H. Ashraf NTPK : 226 \t6.62% messages\n",
      "Sayyaz NTPK : 119 \t3.48% messages\n",
      "Hira Asif : 81 \t2.37% messages\n",
      "Mazhar Iqbal NTPK : 74 \t2.17% messages\n",
      "Rabail Abbas NTPK : 60 \t1.76% messages\n",
      "Adil Zaheer NTPK : 54 \t1.58% messages\n",
      "Qaiser Mehmood NTPK : 44 \t1.29% messages\n",
      "Μubashar Ashiq : 41 \t1.20% messages\n",
      "Kamran Shehzad NTPK : 41 \t1.20% messages\n",
      "Waqas Iqbal : 39 \t1.14% messages\n",
      "Kaleem Ullah NTPK : 37 \t1.08% messages\n",
      "Aamna Qamar NTWK : 19 \t0.56% messages\n",
      "Irshad Hussain NTPK : 14 \t0.41% messages\n",
      "Rizwan Mazhar NETSOL : 13 \t0.38% messages\n",
      "Inzimam NTPK : 7 \t0.20% messages\n",
      "‪+92 304 8166860‬ : 3 \t0.09% messages\n"
     ]
    },
    {
     "data": {
      "image/png": "[encoded data removed]",
      "text/plain": [
       "<matplotlib.figure.Figure at 0xbde7430>"
      ]
     },
     "metadata": {},
     "output_type": "display_data"
    }
   ],
   "source": [
    "#We'll be using the name dictionary. Values are stored as {id:'name'} where id is 0,1,2...\n",
    "fracs=[]\n",
    "dictNames = {}\n",
    "for names in name.values():\n",
    "    if names in dictNames:\n",
    "        dictNames[names]+=1\n",
    "    else:\n",
    "        dictNames[names]=1\n",
    "\n",
    "if '' in dictNames.keys():\n",
    "    del dictNames[''] #eliminate empty names. Messages like \"You changed this group's icon\"\n",
    "sortedNames = sorted(dictNames.items(), key=operator.itemgetter(1), reverse=True)\n",
    "for x in sortedNames: \n",
    "    print ('{0} : {1} \\t{2:.2f}% messages'.format(x[0],x[1],(float(x[1])/sum(dictNames.values()))*100))\n",
    "\n",
    "#Bar graph can get screwed up. Uncomment at your own risk.\n",
    "\n",
    "#plt.bar(range(len(sortedNames)), map(lambda l: l[1], sortedNames))\n",
    "#plt.xticks(map(lambda l: l+0.5,range(len(sortedNames))),map(lambda l: l[0][:3],sortedNames))\n",
    "\n",
    "_ = plt.pie(x=dictNames.values(),labels=list(dictNames.keys()), labeldistance=1.03, radius=3, shadow=True)"
   ]
  },
  {
   "cell_type": "markdown",
   "metadata": {},
   "source": [
    "#### Activity map"
   ]
  },
  {
   "cell_type": "code",
   "execution_count": 14,
   "metadata": {},
   "outputs": [
    {
     "name": "stdout",
     "output_type": "stream",
     "text": [
      "0 : 106\n",
      "1 : 52\n",
      "2 : 23\n",
      "3 : 3\n",
      "4 : 6\n",
      "5 : 20\n",
      "6 : 32\n",
      "7 : 65\n",
      "8 : 122\n",
      "9 : 208\n",
      "10 : 199\n",
      "11 : 219\n",
      "12 : 183\n",
      "13 : 201\n",
      "14 : 182\n",
      "15 : 282\n",
      "16 : 196\n",
      "17 : 227\n",
      "18 : 207\n",
      "19 : 198\n",
      "20 : 263\n",
      "21 : 179\n",
      "22 : 115\n",
      "23 : 152\n",
      "Most active around: 15 hrs with 282 messages\n"
     ]
    },
    {
     "data": {
      "image/png": "[encoded data removed]",
      "text/plain": [
       "<matplotlib.figure.Figure at 0xbe6af50>"
      ]
     },
     "metadata": {},
     "output_type": "display_data"
    }
   ],
   "source": [
    "# we'll be using the hour dictionary\n",
    "dictHours = {}\n",
    "for hours in hour.values():\n",
    "    if hours in dictHours:\n",
    "        dictHours[hours]+=1\n",
    "    else:\n",
    "        dictHours[hours]=1\n",
    "dictHours = dict(sorted(dictHours.items(),key=operator.itemgetter(0)))\n",
    "for i in range(24):\n",
    "    if i not in dictHours.keys():\n",
    "        dictHours[i] = 0\n",
    "for x in dictHours: print ('{0} : {1}' .format(x, dictHours[x]))\n",
    "mostActive = sorted(dictHours.items(),key=operator.itemgetter(1),reverse=True)\n",
    "print ('Most active around: {0} hrs with {1} messages'.format(mostActive[0][0],mostActive[0][1]))\n",
    "plt.plot(dictHours.values())\n",
    "plt.xticks(range(24))\n",
    "_ = plt.xlabel('Hour of the day')\n",
    "_ = plt.ylabel('No of messages')"
   ]
  },
  {
   "cell_type": "markdown",
   "metadata": {},
   "source": [
    "#### Most frequently used words by individual participants"
   ]
  },
  {
   "cell_type": "code",
   "execution_count": 15,
   "metadata": {},
   "outputs": [
    {
     "name": "stdout",
     "output_type": "stream",
     "text": [
      "Most used word by:\n",
      "Kamran Khalid NTPK THAI is:\n",
      "\t pls : 81\n",
      "Aamna Qamar NTWK is:\n",
      "\t well : 2\n",
      "Mazhar Iqbal NTPK is:\n",
      "\t mubarak : 5\n",
      "Imran H. Ashraf NTPK is:\n",
      "\t build : 16\n",
      "Sayyaz NTPK is:\n",
      "\t db : 10\n",
      "Saadia Pervaiz NTPK is:\n",
      "\t plz : 68\n",
      "Rabail Abbas NTPK is:\n",
      "\t office : 27\n",
      "Kaleem Ullah NTPK is:\n",
      "\t office : 7\n",
      "Mohsin Alam is:\n",
      "\t build : 50\n",
      "Rizwan Mazhar NETSOL is:\n",
      "\t today : 8\n",
      "Waqas Iqbal is:\n",
      "\t db : 4\n",
      "Kamran Khalid PK is:\n",
      "\t pls : 79\n",
      "Hira Asif is:\n",
      "\t issue : 12\n",
      "Adil Zaheer NTPK is:\n",
      "\t click : 6\n",
      "Μubashar Ashiq is:\n",
      "\t issue : 5\n",
      "Qaiser Mehmood NTPK is:\n",
      "\t office : 9\n",
      "Irshad Hussain NTPK is:\n",
      "\t kamran : 3\n",
      "Inzimam NTPK is:\n",
      "\t best : 2\n",
      "Kamran Shehzad NTPK is:\n",
      "\t office : 18\n",
      "‪+92 304 8166860‬ is:\n",
      "\t issue : 2\n"
     ]
    }
   ],
   "source": [
    "\"\"\"Using dictName.key() to get the participants.\n",
    "   In the end our data will be stored like {'participant':{'word1':100,'word2':120}, 'participant2':{'word3':40}}\n",
    "\"\"\"\n",
    "partDict = {}\n",
    "for i in range(len(date)):\n",
    "    if text[i]!='123456789media_omitted123456789' and name[i]!='':\n",
    "        if name[i] in list(partDict):\n",
    "            partDict[name[i]].extend(list(tokenize(text[i])))\n",
    "        else:\n",
    "            partDict[name[i]]=list(tokenize(text[i]))\n",
    "    else:\n",
    "        continue\n",
    "                                     \n",
    "for k in list(partDict):#.keys():\n",
    "    partWords = {}\n",
    "    for w in partDict[k]:\n",
    "        if w in partWords:\n",
    "            partWords[w]+=1\n",
    "        else:\n",
    "            partWords[w]=1\n",
    "    partDict[k]=partWords\n",
    "\n",
    "print ('Most used word by:')\n",
    "\n",
    "for k in list(partDict):#.keys():\n",
    "    sorted_part_List=sorted(list(partDict[k].items()), key=operator.itemgetter(1), reverse=True)\n",
    "    try:\n",
    "        print ('{0} is:\\n\\t {1} : {2}'.format(k,sorted_part_List[0][0],sorted_part_List[0][1]))\n",
    "    except IndexError:\n",
    "        print ('{0}:\\n\\tno words yet.'.format(k))"
   ]
  },
  {
   "cell_type": "markdown",
   "metadata": {},
   "source": [
    "__Mod function for cosine similarity__"
   ]
  },
  {
   "cell_type": "code",
   "execution_count": 16,
   "metadata": {},
   "outputs": [],
   "source": [
    "def mod(A, f_max, idf):\n",
    "    \"\"\"This function calculates the mod of the values\n",
    "    of the keys.\n",
    "    \n",
    "    Args:\n",
    "    -----\n",
    "    A : List of values of keys like [1, 4, 2, 3, ....].\n",
    "    \n",
    "    f_max : int frequency of maximum occuring word.\n",
    "    \n",
    "    idf : float inverse document frequency of name.\n",
    "    \n",
    "    Returns:\n",
    "    --------\n",
    "    Float value corresponding to the mod of the given list.\n",
    "    \"\"\"\n",
    "    A = np.asarray(A, dtype=np.float64)\n",
    "    A = A / f_max\n",
    "    A = A * idf\n",
    "    return math.sqrt(A.dot(A))"
   ]
  },
  {
   "cell_type": "markdown",
   "metadata": {},
   "source": [
    "__Cosine similarity function__"
   ]
  },
  {
   "cell_type": "code",
   "execution_count": 17,
   "metadata": {},
   "outputs": [],
   "source": [
    "def cosine_similarity(name1, name2):\n",
    "    \"\"\"This function calculates cosine similarity between two\n",
    "    dictionaries for the purpose of analysing typing similarity.\n",
    "    \n",
    "    Args:\n",
    "    -----\n",
    "    name1 : First name.\n",
    "    \n",
    "    name2 : Second name.\n",
    "    \n",
    "    Returns:\n",
    "    --------\n",
    "    float value corresponding to the cosine similarity.\n",
    "    \"\"\"\n",
    "    A = partDict[name1]\n",
    "    B = partDict[name2]\n",
    "    f_max = sorted_words_list[0][1]\n",
    "    a = set(list(A))#.keys())\n",
    "    b = set(list(B))#.keys())\n",
    "    mat1 = np.array([])\n",
    "    mat2 = np.array([])\n",
    "    dotprod = 0\n",
    "    for word in a.intersection(b):\n",
    "        mat1 = np.append(mat1, A[word])\n",
    "        mat2 = np.append(mat2, B[word])\n",
    "    mat1 = mat1 / f_max\n",
    "    mat2 = mat2 / f_max\n",
    "    N = sum(dictNames.values())\n",
    "    idf1 = np.log10(N / dictNames[name1])\n",
    "    idf2 = np.log10(N / dictNames[name2])\n",
    "    mat1 = mat1 * idf1\n",
    "    mat2 = mat2 * idf2\n",
    "    \n",
    "    #print(partDict[name1])\n",
    "    #print(partDict[name2])\n",
    "    return mat1.dot(mat2)/(mod(list(A.values()), f_max, idf1) * mod(list(B.values()), f_max, idf2))"
   ]
  },
  {
   "cell_type": "markdown",
   "metadata": {},
   "source": [
    "__Typing style similarity__\n",
    "__Using Cosine Similarity__"
   ]
  },
  {
   "cell_type": "code",
   "execution_count": 18,
   "metadata": {},
   "outputs": [
    {
     "name": "stdout",
     "output_type": "stream",
     "text": [
      "Kamran Khalid NTPK THAI, Aamna Qamar NTWK : 0.1021962818332033\n",
      "Kamran Khalid NTPK THAI, Mazhar Iqbal NTPK : 0.2195334540691477\n",
      "Kamran Khalid NTPK THAI, Imran H. Ashraf NTPK : 0.3316876894111218\n",
      "Kamran Khalid NTPK THAI, Sayyaz NTPK : 0.25855250475289265\n",
      "Kamran Khalid NTPK THAI, Saadia Pervaiz NTPK : 0.4190229863611585\n",
      "Kamran Khalid NTPK THAI, Rabail Abbas NTPK : 0.12639602963401905\n",
      "Kamran Khalid NTPK THAI, Kaleem Ullah NTPK : 0.18850247678422027\n",
      "Kamran Khalid NTPK THAI, Mohsin Alam : 0.41664035349145867\n",
      "Kamran Khalid NTPK THAI, Rizwan Mazhar NETSOL : 0.06910053458962864\n",
      "Kamran Khalid NTPK THAI, Waqas Iqbal : 0.16655280811826034\n",
      "Kamran Khalid NTPK THAI, Kamran Khalid PK : 0.8309830449090686\n",
      "Kamran Khalid NTPK THAI, Hira Asif : 0.2747946889398011\n",
      "Kamran Khalid NTPK THAI, Adil Zaheer NTPK : 0.1510022770017308\n",
      "Kamran Khalid NTPK THAI, Μubashar Ashiq : 0.20550806226659477\n",
      "Kamran Khalid NTPK THAI, Qaiser Mehmood NTPK : 0.11674718894320842\n",
      "Kamran Khalid NTPK THAI, Irshad Hussain NTPK : 0.11943162899791566\n",
      "Kamran Khalid NTPK THAI, Inzimam NTPK : 0.0826366840566948\n",
      "Kamran Khalid NTPK THAI, Kamran Shehzad NTPK : 0.13809697544507799\n",
      "Kamran Khalid NTPK THAI, ‪+92 304 8166860‬ : 0.08936662437245085\n",
      "Aamna Qamar NTWK, Mazhar Iqbal NTPK : 0.23365059961903328\n",
      "Aamna Qamar NTWK, Imran H. Ashraf NTPK : 0.2322504648034893\n",
      "Aamna Qamar NTWK, Sayyaz NTPK : 0.10061034264380252\n",
      "Aamna Qamar NTWK, Saadia Pervaiz NTPK : 0.12075580810154568\n",
      "Aamna Qamar NTWK, Rabail Abbas NTPK : 0.033473096350228916\n",
      "Aamna Qamar NTWK, Kaleem Ullah NTPK : 0.020087684400209246\n",
      "Aamna Qamar NTWK, Mohsin Alam : 0.19122801067051784\n",
      "Aamna Qamar NTWK, Rizwan Mazhar NETSOL : 0.0\n",
      "Aamna Qamar NTWK, Waqas Iqbal : 0.06908044237339603\n",
      "Aamna Qamar NTWK, Kamran Khalid PK : 0.11277886549439457\n",
      "Aamna Qamar NTWK, Hira Asif : 0.09860475355393465\n",
      "Aamna Qamar NTWK, Adil Zaheer NTPK : 0.10004084133313013\n",
      "Aamna Qamar NTWK, Μubashar Ashiq : 0.0546808255018974\n",
      "Aamna Qamar NTWK, Qaiser Mehmood NTPK : 0.03332740898718623\n",
      "Aamna Qamar NTWK, Irshad Hussain NTPK : 0.09811049102515926\n",
      "Aamna Qamar NTWK, Inzimam NTPK : 0.023782574707724703\n",
      "Aamna Qamar NTWK, Kamran Shehzad NTPK : 0.08995148425783601\n",
      "Aamna Qamar NTWK, ‪+92 304 8166860‬ : 0.023338001400466827\n",
      "Mazhar Iqbal NTPK, Imran H. Ashraf NTPK : 0.4156267464157063\n",
      "Mazhar Iqbal NTPK, Sayyaz NTPK : 0.31171166291632735\n",
      "Mazhar Iqbal NTPK, Saadia Pervaiz NTPK : 0.3552851686950242\n",
      "Mazhar Iqbal NTPK, Rabail Abbas NTPK : 0.1817081098745218\n",
      "Mazhar Iqbal NTPK, Kaleem Ullah NTPK : 0.19149477980672516\n",
      "Mazhar Iqbal NTPK, Mohsin Alam : 0.41358541255919423\n",
      "Mazhar Iqbal NTPK, Rizwan Mazhar NETSOL : 0.14225314934763814\n",
      "Mazhar Iqbal NTPK, Waqas Iqbal : 0.21167357809039591\n",
      "Mazhar Iqbal NTPK, Kamran Khalid PK : 0.23559611409906198\n",
      "Mazhar Iqbal NTPK, Hira Asif : 0.3759974558244337\n",
      "Mazhar Iqbal NTPK, Adil Zaheer NTPK : 0.2213908785693057\n",
      "Mazhar Iqbal NTPK, Μubashar Ashiq : 0.204784357163661\n",
      "Mazhar Iqbal NTPK, Qaiser Mehmood NTPK : 0.16944444747684098\n",
      "Mazhar Iqbal NTPK, Irshad Hussain NTPK : 0.24031547851365326\n",
      "Mazhar Iqbal NTPK, Inzimam NTPK : 0.12280556378486977\n",
      "Mazhar Iqbal NTPK, Kamran Shehzad NTPK : 0.3019123399237308\n",
      "Mazhar Iqbal NTPK, ‪+92 304 8166860‬ : 0.120509930266949\n",
      "Imran H. Ashraf NTPK, Sayyaz NTPK : 0.35400951503139655\n",
      "Imran H. Ashraf NTPK, Saadia Pervaiz NTPK : 0.4793844277833883\n",
      "Imran H. Ashraf NTPK, Rabail Abbas NTPK : 0.17052957052618714\n",
      "Imran H. Ashraf NTPK, Kaleem Ullah NTPK : 0.1978519914938305\n",
      "Imran H. Ashraf NTPK, Mohsin Alam : 0.5512439627062447\n",
      "Imran H. Ashraf NTPK, Rizwan Mazhar NETSOL : 0.07920419715777849\n",
      "Imran H. Ashraf NTPK, Waqas Iqbal : 0.22624208498229856\n",
      "Imran H. Ashraf NTPK, Kamran Khalid PK : 0.30891192416372065\n",
      "Imran H. Ashraf NTPK, Hira Asif : 0.3625252900152541\n",
      "Imran H. Ashraf NTPK, Adil Zaheer NTPK : 0.25604382771594286\n",
      "Imran H. Ashraf NTPK, Μubashar Ashiq : 0.2467360015509953\n",
      "Imran H. Ashraf NTPK, Qaiser Mehmood NTPK : 0.19695334040718485\n",
      "Imran H. Ashraf NTPK, Irshad Hussain NTPK : 0.22769872944023223\n",
      "Imran H. Ashraf NTPK, Inzimam NTPK : 0.09692876233453122\n",
      "Imran H. Ashraf NTPK, Kamran Shehzad NTPK : 0.23371270429466104\n",
      "Imran H. Ashraf NTPK, ‪+92 304 8166860‬ : 0.11096965833433221\n",
      "Sayyaz NTPK, Saadia Pervaiz NTPK : 0.49945048603967485\n",
      "Sayyaz NTPK, Rabail Abbas NTPK : 0.35877653530977227\n",
      "Sayyaz NTPK, Kaleem Ullah NTPK : 0.2583683231248112\n",
      "Sayyaz NTPK, Mohsin Alam : 0.44429428761782475\n",
      "Sayyaz NTPK, Rizwan Mazhar NETSOL : 0.27350822516179085\n",
      "Sayyaz NTPK, Waqas Iqbal : 0.3186769187704845\n",
      "Sayyaz NTPK, Kamran Khalid PK : 0.28005386696914103\n",
      "Sayyaz NTPK, Hira Asif : 0.31031818353402446\n",
      "Sayyaz NTPK, Adil Zaheer NTPK : 0.15644108482131072\n",
      "Sayyaz NTPK, Μubashar Ashiq : 0.20094463155399805\n",
      "Sayyaz NTPK, Qaiser Mehmood NTPK : 0.30644487358316785\n",
      "Sayyaz NTPK, Irshad Hussain NTPK : 0.21479143938928744\n",
      "Sayyaz NTPK, Inzimam NTPK : 0.12365850813849799\n",
      "Sayyaz NTPK, Kamran Shehzad NTPK : 0.38278090010211846\n",
      "Sayyaz NTPK, ‪+92 304 8166860‬ : 0.09580020815491845\n",
      "Saadia Pervaiz NTPK, Rabail Abbas NTPK : 0.15608363609945475\n",
      "Saadia Pervaiz NTPK, Kaleem Ullah NTPK : 0.22355215781643345\n",
      "Saadia Pervaiz NTPK, Mohsin Alam : 0.5887022301800116\n",
      "Saadia Pervaiz NTPK, Rizwan Mazhar NETSOL : 0.08681883308032974\n",
      "Saadia Pervaiz NTPK, Waqas Iqbal : 0.23437143056330836\n",
      "Saadia Pervaiz NTPK, Kamran Khalid PK : 0.38288519973849167\n",
      "Saadia Pervaiz NTPK, Hira Asif : 0.4724764489781957\n",
      "Saadia Pervaiz NTPK, Adil Zaheer NTPK : 0.23822068206931443\n",
      "Saadia Pervaiz NTPK, Μubashar Ashiq : 0.31418886991442246\n",
      "Saadia Pervaiz NTPK, Qaiser Mehmood NTPK : 0.155677420353248\n",
      "Saadia Pervaiz NTPK, Irshad Hussain NTPK : 0.26773731425288727\n",
      "Saadia Pervaiz NTPK, Inzimam NTPK : 0.0818572932408227\n",
      "Saadia Pervaiz NTPK, Kamran Shehzad NTPK : 0.1857625202022218\n",
      "Saadia Pervaiz NTPK, ‪+92 304 8166860‬ : 0.12393326384019787\n",
      "Rabail Abbas NTPK, Kaleem Ullah NTPK : 0.533434949669081\n",
      "Rabail Abbas NTPK, Mohsin Alam : 0.22833411096344447\n",
      "Rabail Abbas NTPK, Rizwan Mazhar NETSOL : 0.6413974087248385\n",
      "Rabail Abbas NTPK, Waqas Iqbal : 0.30324638951366706\n",
      "Rabail Abbas NTPK, Kamran Khalid PK : 0.18500113654332256\n",
      "Rabail Abbas NTPK, Hira Asif : 0.27774602993176545\n",
      "Rabail Abbas NTPK, Adil Zaheer NTPK : 0.09623459052686921\n",
      "Rabail Abbas NTPK, Μubashar Ashiq : 0.2518891715307782\n",
      "Rabail Abbas NTPK, Qaiser Mehmood NTPK : 0.5575626717513585\n",
      "Rabail Abbas NTPK, Irshad Hussain NTPK : 0.027914526311954124\n",
      "Rabail Abbas NTPK, Inzimam NTPK : 0.2751770806633898\n",
      "Rabail Abbas NTPK, Kamran Shehzad NTPK : 0.7916803556311796\n",
      "Rabail Abbas NTPK, ‪+92 304 8166860‬ : 0.15051026932359032\n",
      "Kaleem Ullah NTPK, Mohsin Alam : 0.21201569270812687\n",
      "Kaleem Ullah NTPK, Rizwan Mazhar NETSOL : 0.30337873398710535\n",
      "Kaleem Ullah NTPK, Waqas Iqbal : 0.2066961732296519\n",
      "Kaleem Ullah NTPK, Kamran Khalid PK : 0.1545271737072147\n",
      "Kaleem Ullah NTPK, Hira Asif : 0.3299914788806583\n",
      "Kaleem Ullah NTPK, Adil Zaheer NTPK : 0.156173761888606\n",
      "Kaleem Ullah NTPK, Μubashar Ashiq : 0.21340559785400562\n",
      "Kaleem Ullah NTPK, Qaiser Mehmood NTPK : 0.40061113140899857\n",
      "Kaleem Ullah NTPK, Irshad Hussain NTPK : 0.11912467150602793\n",
      "Kaleem Ullah NTPK, Inzimam NTPK : 0.1191157225016577\n",
      "Kaleem Ullah NTPK, Kamran Shehzad NTPK : 0.48329007418216163\n",
      "Kaleem Ullah NTPK, ‪+92 304 8166860‬ : 0.1912730139190014\n",
      "Mohsin Alam, Rizwan Mazhar NETSOL : 0.15974602243367808\n",
      "Mohsin Alam, Waqas Iqbal : 0.328516702664654\n",
      "Mohsin Alam, Kamran Khalid PK : 0.4368330075896732\n",
      "Mohsin Alam, Hira Asif : 0.422166779471461\n",
      "Mohsin Alam, Adil Zaheer NTPK : 0.24345069063807448\n",
      "Mohsin Alam, Μubashar Ashiq : 0.31489019367449256\n",
      "Mohsin Alam, Qaiser Mehmood NTPK : 0.16294829321652698\n",
      "Mohsin Alam, Irshad Hussain NTPK : 0.2668506988772563\n",
      "Mohsin Alam, Inzimam NTPK : 0.10978617202254538\n",
      "Mohsin Alam, Kamran Shehzad NTPK : 0.28540303035154213\n",
      "Mohsin Alam, ‪+92 304 8166860‬ : 0.1320119780011594\n",
      "Rizwan Mazhar NETSOL, Waqas Iqbal : 0.1844410286923725\n",
      "Rizwan Mazhar NETSOL, Kamran Khalid PK : 0.13011074772296033\n",
      "Rizwan Mazhar NETSOL, Hira Asif : 0.195457537174439\n",
      "Rizwan Mazhar NETSOL, Adil Zaheer NTPK : 0.06475239082381759\n",
      "Rizwan Mazhar NETSOL, Μubashar Ashiq : 0.1813875208210914\n",
      "Rizwan Mazhar NETSOL, Qaiser Mehmood NTPK : 0.3926010094766432\n",
      "Rizwan Mazhar NETSOL, Irshad Hussain NTPK : 0.00926084733220795\n",
      "Rizwan Mazhar NETSOL, Inzimam NTPK : 0.2155089833761461\n",
      "Rizwan Mazhar NETSOL, Kamran Shehzad NTPK : 0.5756696098696648\n",
      "Rizwan Mazhar NETSOL, ‪+92 304 8166860‬ : 0.10574021142908586\n",
      "Waqas Iqbal, Kamran Khalid PK : 0.20882679001189533\n",
      "Waqas Iqbal, Hira Asif : 0.1819686313117098\n",
      "Waqas Iqbal, Adil Zaheer NTPK : 0.11508706752968718\n",
      "Waqas Iqbal, Μubashar Ashiq : 0.1625042407438482\n",
      "Waqas Iqbal, Qaiser Mehmood NTPK : 0.2549601964752124\n",
      "Waqas Iqbal, Irshad Hussain NTPK : 0.16459682009330687\n",
      "Waqas Iqbal, Inzimam NTPK : 0.09575822841255553\n",
      "Waqas Iqbal, Kamran Shehzad NTPK : 0.2746538639506298\n",
      "Waqas Iqbal, ‪+92 304 8166860‬ : 0.04698409857349397\n",
      "Kamran Khalid PK, Hira Asif : 0.24436339914461305\n",
      "Kamran Khalid PK, Adil Zaheer NTPK : 0.12888307671379093\n",
      "Kamran Khalid PK, Μubashar Ashiq : 0.13146139820143615\n",
      "Kamran Khalid PK, Qaiser Mehmood NTPK : 0.17654411990874988\n",
      "Kamran Khalid PK, Irshad Hussain NTPK : 0.14165663081653485\n",
      "Kamran Khalid PK, Inzimam NTPK : 0.09963771516500346\n",
      "Kamran Khalid PK, Kamran Shehzad NTPK : 0.18140094810921065\n",
      "Kamran Khalid PK, ‪+92 304 8166860‬ : 0.0878319267439618\n",
      "Hira Asif, Adil Zaheer NTPK : 0.1629052127965529\n",
      "Hira Asif, Μubashar Ashiq : 0.2802189936589887\n",
      "Hira Asif, Qaiser Mehmood NTPK : 0.23687224765961515\n",
      "Hira Asif, Irshad Hussain NTPK : 0.24669110010907938\n",
      "Hira Asif, Inzimam NTPK : 0.09567905665167595\n",
      "Hira Asif, Kamran Shehzad NTPK : 0.3272011648379425\n",
      "Hira Asif, ‪+92 304 8166860‬ : 0.26602309852737815\n",
      "Adil Zaheer NTPK, Μubashar Ashiq : 0.09109750373485541\n",
      "Adil Zaheer NTPK, Qaiser Mehmood NTPK : 0.0550603135988334\n",
      "Adil Zaheer NTPK, Irshad Hussain NTPK : 0.1112373020786524\n",
      "Adil Zaheer NTPK, Inzimam NTPK : 0.03466876226407681\n",
      "Adil Zaheer NTPK, Kamran Shehzad NTPK : 0.1289402661544383\n",
      "Adil Zaheer NTPK, ‪+92 304 8166860‬ : 0.02268046058132572\n",
      "Μubashar Ashiq, Qaiser Mehmood NTPK : 0.17348964639662806\n",
      "Μubashar Ashiq, Irshad Hussain NTPK : 0.13897289885575242\n",
      "Μubashar Ashiq, Inzimam NTPK : 0.13896245879272034\n",
      "Μubashar Ashiq, Kamran Shehzad NTPK : 0.23890446869648535\n",
      "Μubashar Ashiq, ‪+92 304 8166860‬ : 0.13636480060602704\n",
      "Qaiser Mehmood NTPK, Irshad Hussain NTPK : 0.10376065247444495\n",
      "Qaiser Mehmood NTPK, Inzimam NTPK : 0.16169276518674106\n",
      "Qaiser Mehmood NTPK, Kamran Shehzad NTPK : 0.5279813252448847\n",
      "Qaiser Mehmood NTPK, ‪+92 304 8166860‬ : 0.11635814959548572\n",
      "Irshad Hussain NTPK, Inzimam NTPK : 0.026444294267397254\n",
      "Irshad Hussain NTPK, Kamran Shehzad NTPK : 0.06001125316505162\n",
      "Irshad Hussain NTPK, ‪+92 304 8166860‬ : 0.1037998592215364\n",
      "Inzimam NTPK, Kamran Shehzad NTPK : 0.2618476142785634\n",
      "Inzimam NTPK, ‪+92 304 8166860‬ : 0.07548513560963972\n",
      "Kamran Shehzad NTPK, ‪+92 304 8166860‬ : 0.19985220480354418\n"
     ]
    }
   ],
   "source": [
    "names = list(partDict) #.keys()\n",
    "backtracker = {}\n",
    "for i in range(len(names)-1):\n",
    "    for j in range(i+1, len(names)):\n",
    "        backtracker[(names[i], names[j])] = cosine_similarity(names[i], names[j])\n",
    "for k in list(backtracker):#.keys():\n",
    "    print (\"{0}, {1} : {2}\".format(k[0], k[1], backtracker[k]))"
   ]
  },
  {
   "cell_type": "markdown",
   "metadata": {},
   "source": [
    "#### Conversation trends over full timeline"
   ]
  },
  {
   "cell_type": "code",
   "execution_count": 19,
   "metadata": {},
   "outputs": [
    {
     "name": "stdout",
     "output_type": "stream",
     "text": [
      "Around 11 messages everyday.\n",
      "Maximum messages:\n",
      "(19, 6, 2017) : 116\n",
      "(15, 2, 2018) : 110\n",
      "(17, 9, 2017) : 108\n",
      "(13, 9, 2017) : 96\n",
      "(15, 9, 2017) : 92\n",
      "Minimum messages:\n",
      "(27, 1, 2018) : 1\n",
      "(26, 1, 2018) : 1\n",
      "(9, 1, 2018) : 1\n",
      "(8, 1, 2018) : 1\n",
      "(5, 1, 2018) : 1\n"
     ]
    }
   ],
   "source": [
    "dateDict={}\n",
    "\n",
    "for i in range(len(date)):\n",
    "    if name[i]!='':\n",
    "        if date[i] in dateDict:\n",
    "            dateDict[date[i]]+=1\n",
    "        else:\n",
    "            dateDict[date[i]]=1\n",
    "    else:\n",
    "        continue\n",
    "print ('Around %d messages everyday.' %(sum(dateDict.values())/len(dateDict.keys())))\n",
    "\n",
    "dateList=[]\n",
    "\n",
    "#Rearranging dates for easier comparisons.\n",
    "\n",
    "for i in range(len(dateDict)):\n",
    "    l = list(map(int,list(dateDict)[i].split('/')))\n",
    "    #This date splitting is specific to DD/MM/YYYY format\n",
    "    dt=(l[2],l[1],l[0])\n",
    "    dateList.append((dt,list(dateDict.values())[i]))\n",
    "\n",
    "dateList = sorted(dateList)\n",
    "\n",
    "x_coords_datelist = map(lambda l: l[0],dateList)\n",
    "y_coords_datelist = map(lambda l: l[1],dateList)\n",
    "\n",
    "dateListRev = sorted(dateList,key=operator.itemgetter(1),reverse=True)\n",
    "maxList, minList = dateListRev[:5], dateListRev[::-1][:5]\n",
    "\n",
    "print ('Maximum messages:')\n",
    "for i in maxList:\n",
    "    string = '{0} : {1}'.format(i[0][::-1], i[1])\n",
    "    print (string)\n",
    "\n",
    "print ('Minimum messages:')\n",
    "for i in minList:\n",
    "    string = '{0} : {1}'.format(i[0][::-1], i[1])\n",
    "    print (string)\n",
    "#Getting coordinates for max 5 and min 5 days\n",
    "maxmsg=[]\n",
    "minmsg=[]\n",
    "for i in range(len(dateList)):\n",
    "    if dateList[i] in maxList:\n",
    "        maxmsg.append((i,dateList[i][1]))\n",
    "    elif dateList[i] in minList:\n",
    "        minmsg.append((i,dateList[i][1]))\n",
    "    else:\n",
    "        continue\n"
   ]
  },
  {
   "cell_type": "code",
   "execution_count": null,
   "metadata": {
    "collapsed": true
   },
   "outputs": [],
   "source": []
  }
 ],
 "metadata": {
  "kernelspec": {
   "display_name": "Python 3",
   "language": "python",
   "name": "python3"
  },
  "language_info": {
   "codemirror_mode": {
    "name": "ipython",
    "version": 3
   },
   "file_extension": ".py",
   "mimetype": "text/x-python",
   "name": "python",
   "nbconvert_exporter": "python",
   "pygments_lexer": "ipython3",
   "version": "3.6.4"
  }
 },
 "nbformat": 4,
 "nbformat_minor": 1
}
